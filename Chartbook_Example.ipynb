{
 "cells": [
  {
   "cell_type": "code",
   "execution_count": 1,
   "id": "ee6c15c0-d03b-41ca-ab2b-2dc1fde8b509",
   "metadata": {
    "execution": {
     "iopub.execute_input": "2025-04-04T16:55:14.807903Z",
     "iopub.status.busy": "2025-04-04T16:55:14.807352Z",
     "iopub.status.idle": "2025-04-04T16:55:15.084039Z",
     "shell.execute_reply": "2025-04-04T16:55:15.083551Z",
     "shell.execute_reply.started": "2025-04-04T16:55:14.807849Z"
    }
   },
   "outputs": [],
   "source": [
    "# Import libraries \n",
    "import pandas as pd\n",
    "import subprocess"
   ]
  },
  {
   "cell_type": "markdown",
   "id": "fd584c04-b778-4374-9a73-df84d88dce33",
   "metadata": {},
   "source": [
    "## Chartbook Minimal Example - US Wage Growth\n",
    "\n",
    "Three parts:\n",
    "\n",
    "1) Gather raw data, apply functions, store cleaned data;\n",
    "2) Generate descriptive text from cleaned data; and\n",
    "3) Compile LaTeX file to update pdf file (or other format) with new data and text.\n",
    "\n",
    "Tools: Python, R, Stata or similar for parts (1) and (2). LaTeX (pdf) or web-based for part (3). In theory, AI (Gemini) could do part (2) as well. \n",
    "\n",
    "This example is written in Python. If you are new to Python, I suggest using 'miniconda'. \n",
    "\n",
    "The example shows a way to download wage data from FRED, apply calculations, and save the results. Next, these results are entered into a set of functions and script to generate two sentences of descriptive text. This text is saved locally as a .txt file. Finally, a separate LaTex (.tex) file is used as a template. The .tex file has a \"hard-keyed\" portion, a placeholder for the .txt file, and a placeholder chart waiting to read the .csv wage growth data. When the .tex file is compiled, it generates/updates a PDF file."
   ]
  },
  {
   "cell_type": "markdown",
   "id": "501a8040-edaa-4168-aa3f-ac41f3e50f4c",
   "metadata": {
    "execution": {
     "iopub.execute_input": "2025-04-03T21:52:54.456270Z",
     "iopub.status.busy": "2025-04-03T21:52:54.455496Z",
     "iopub.status.idle": "2025-04-03T21:52:54.461617Z",
     "shell.execute_reply": "2025-04-03T21:52:54.461047Z",
     "shell.execute_reply.started": "2025-04-03T21:52:54.456193Z"
    }
   },
   "source": [
    "#### Step 1: Gather data, apply functions, store cleaned data\n",
    "\n",
    "Download wage data from FRED and calculate the three-month over three-month growth rate. Save the results locally as a .csv file."
   ]
  },
  {
   "cell_type": "code",
   "execution_count": 2,
   "id": "11ddf63e-4f96-4f3f-9e83-c5503247aa18",
   "metadata": {
    "execution": {
     "iopub.execute_input": "2025-04-04T16:55:15.084820Z",
     "iopub.status.busy": "2025-04-04T16:55:15.084562Z",
     "iopub.status.idle": "2025-04-04T16:55:15.534400Z",
     "shell.execute_reply": "2025-04-04T16:55:15.533874Z",
     "shell.execute_reply.started": "2025-04-04T16:55:15.084804Z"
    }
   },
   "outputs": [],
   "source": [
    "# Download AHETPI series from FRED\n",
    "url = 'https://fred.stlouisfed.org/data/AHETPI'\n",
    "df = pd.read_html(url, parse_dates=True)[1].set_index('DATE')"
   ]
  },
  {
   "cell_type": "code",
   "execution_count": 3,
   "id": "b851bbb1-7db8-470e-8b4f-c18a1649336b",
   "metadata": {
    "execution": {
     "iopub.execute_input": "2025-04-04T16:55:15.535818Z",
     "iopub.status.busy": "2025-04-04T16:55:15.535588Z",
     "iopub.status.idle": "2025-04-04T16:55:15.544174Z",
     "shell.execute_reply": "2025-04-04T16:55:15.543624Z",
     "shell.execute_reply.started": "2025-04-04T16:55:15.535801Z"
    }
   },
   "outputs": [
    {
     "data": {
      "text/html": [
       "<div>\n",
       "<style scoped>\n",
       "    .dataframe tbody tr th:only-of-type {\n",
       "        vertical-align: middle;\n",
       "    }\n",
       "\n",
       "    .dataframe tbody tr th {\n",
       "        vertical-align: top;\n",
       "    }\n",
       "\n",
       "    .dataframe thead th {\n",
       "        text-align: right;\n",
       "    }\n",
       "</style>\n",
       "<table border=\"1\" class=\"dataframe\">\n",
       "  <thead>\n",
       "    <tr style=\"text-align: right;\">\n",
       "      <th></th>\n",
       "      <th>VALUE</th>\n",
       "    </tr>\n",
       "    <tr>\n",
       "      <th>DATE</th>\n",
       "      <th></th>\n",
       "    </tr>\n",
       "  </thead>\n",
       "  <tbody>\n",
       "    <tr>\n",
       "      <th>2024-11-01</th>\n",
       "      <td>30.58</td>\n",
       "    </tr>\n",
       "    <tr>\n",
       "      <th>2024-12-01</th>\n",
       "      <td>30.67</td>\n",
       "    </tr>\n",
       "    <tr>\n",
       "      <th>2025-01-01</th>\n",
       "      <td>30.80</td>\n",
       "    </tr>\n",
       "    <tr>\n",
       "      <th>2025-02-01</th>\n",
       "      <td>30.91</td>\n",
       "    </tr>\n",
       "    <tr>\n",
       "      <th>2025-03-01</th>\n",
       "      <td>30.96</td>\n",
       "    </tr>\n",
       "  </tbody>\n",
       "</table>\n",
       "</div>"
      ],
      "text/plain": [
       "            VALUE\n",
       "DATE             \n",
       "2024-11-01  30.58\n",
       "2024-12-01  30.67\n",
       "2025-01-01  30.80\n",
       "2025-02-01  30.91\n",
       "2025-03-01  30.96"
      ]
     },
     "execution_count": 3,
     "metadata": {},
     "output_type": "execute_result"
    }
   ],
   "source": [
    "# Show last 5 observations\n",
    "df.tail()"
   ]
  },
  {
   "cell_type": "code",
   "execution_count": 4,
   "id": "f1d8ccc0-f4c2-4c0d-a58a-c2ec19881e9a",
   "metadata": {
    "execution": {
     "iopub.execute_input": "2025-04-04T16:55:15.544874Z",
     "iopub.status.busy": "2025-04-04T16:55:15.544711Z",
     "iopub.status.idle": "2025-04-04T16:55:15.563563Z",
     "shell.execute_reply": "2025-04-04T16:55:15.563084Z",
     "shell.execute_reply.started": "2025-04-04T16:55:15.544859Z"
    }
   },
   "outputs": [],
   "source": [
    "# Calculate 3-month moving average\n",
    "df['MA'] = df['VALUE'].rolling(3).mean()"
   ]
  },
  {
   "cell_type": "code",
   "execution_count": 5,
   "id": "51dfad24-100c-41b6-be41-f002e7a2da87",
   "metadata": {
    "execution": {
     "iopub.execute_input": "2025-04-04T16:55:15.564191Z",
     "iopub.status.busy": "2025-04-04T16:55:15.564045Z",
     "iopub.status.idle": "2025-04-04T16:55:15.572034Z",
     "shell.execute_reply": "2025-04-04T16:55:15.571568Z",
     "shell.execute_reply.started": "2025-04-04T16:55:15.564177Z"
    }
   },
   "outputs": [
    {
     "data": {
      "text/html": [
       "<div>\n",
       "<style scoped>\n",
       "    .dataframe tbody tr th:only-of-type {\n",
       "        vertical-align: middle;\n",
       "    }\n",
       "\n",
       "    .dataframe tbody tr th {\n",
       "        vertical-align: top;\n",
       "    }\n",
       "\n",
       "    .dataframe thead th {\n",
       "        text-align: right;\n",
       "    }\n",
       "</style>\n",
       "<table border=\"1\" class=\"dataframe\">\n",
       "  <thead>\n",
       "    <tr style=\"text-align: right;\">\n",
       "      <th></th>\n",
       "      <th>VALUE</th>\n",
       "      <th>MA</th>\n",
       "    </tr>\n",
       "    <tr>\n",
       "      <th>DATE</th>\n",
       "      <th></th>\n",
       "      <th></th>\n",
       "    </tr>\n",
       "  </thead>\n",
       "  <tbody>\n",
       "    <tr>\n",
       "      <th>2024-11-01</th>\n",
       "      <td>30.58</td>\n",
       "      <td>30.483333</td>\n",
       "    </tr>\n",
       "    <tr>\n",
       "      <th>2024-12-01</th>\n",
       "      <td>30.67</td>\n",
       "      <td>30.580000</td>\n",
       "    </tr>\n",
       "    <tr>\n",
       "      <th>2025-01-01</th>\n",
       "      <td>30.80</td>\n",
       "      <td>30.683333</td>\n",
       "    </tr>\n",
       "    <tr>\n",
       "      <th>2025-02-01</th>\n",
       "      <td>30.91</td>\n",
       "      <td>30.793333</td>\n",
       "    </tr>\n",
       "    <tr>\n",
       "      <th>2025-03-01</th>\n",
       "      <td>30.96</td>\n",
       "      <td>30.890000</td>\n",
       "    </tr>\n",
       "  </tbody>\n",
       "</table>\n",
       "</div>"
      ],
      "text/plain": [
       "            VALUE         MA\n",
       "DATE                        \n",
       "2024-11-01  30.58  30.483333\n",
       "2024-12-01  30.67  30.580000\n",
       "2025-01-01  30.80  30.683333\n",
       "2025-02-01  30.91  30.793333\n",
       "2025-03-01  30.96  30.890000"
      ]
     },
     "execution_count": 5,
     "metadata": {},
     "output_type": "execute_result"
    }
   ],
   "source": [
    "df.tail()"
   ]
  },
  {
   "cell_type": "code",
   "execution_count": 6,
   "id": "532ef15a-b1cf-4c92-b9e2-d4f4fc6d992b",
   "metadata": {
    "execution": {
     "iopub.execute_input": "2025-04-04T16:55:15.572872Z",
     "iopub.status.busy": "2025-04-04T16:55:15.572610Z",
     "iopub.status.idle": "2025-04-04T16:55:15.578315Z",
     "shell.execute_reply": "2025-04-04T16:55:15.577851Z",
     "shell.execute_reply.started": "2025-04-04T16:55:15.572853Z"
    }
   },
   "outputs": [],
   "source": [
    "# Calculate 3M/3M change\n",
    "df['CH3M'] = (((df['MA'] / df['MA'].shift(3))**4) - 1) * 100"
   ]
  },
  {
   "cell_type": "code",
   "execution_count": 7,
   "id": "c6c5bc26-2eb1-413b-878c-eb7c9084c2c3",
   "metadata": {
    "execution": {
     "iopub.execute_input": "2025-04-04T16:55:15.579005Z",
     "iopub.status.busy": "2025-04-04T16:55:15.578829Z",
     "iopub.status.idle": "2025-04-04T16:55:15.586864Z",
     "shell.execute_reply": "2025-04-04T16:55:15.586381Z",
     "shell.execute_reply.started": "2025-04-04T16:55:15.578990Z"
    }
   },
   "outputs": [
    {
     "data": {
      "text/html": [
       "<div>\n",
       "<style scoped>\n",
       "    .dataframe tbody tr th:only-of-type {\n",
       "        vertical-align: middle;\n",
       "    }\n",
       "\n",
       "    .dataframe tbody tr th {\n",
       "        vertical-align: top;\n",
       "    }\n",
       "\n",
       "    .dataframe thead th {\n",
       "        text-align: right;\n",
       "    }\n",
       "</style>\n",
       "<table border=\"1\" class=\"dataframe\">\n",
       "  <thead>\n",
       "    <tr style=\"text-align: right;\">\n",
       "      <th></th>\n",
       "      <th>VALUE</th>\n",
       "      <th>MA</th>\n",
       "      <th>CH3M</th>\n",
       "    </tr>\n",
       "    <tr>\n",
       "      <th>DATE</th>\n",
       "      <th></th>\n",
       "      <th></th>\n",
       "      <th></th>\n",
       "    </tr>\n",
       "  </thead>\n",
       "  <tbody>\n",
       "    <tr>\n",
       "      <th>2024-11-01</th>\n",
       "      <td>30.58</td>\n",
       "      <td>30.483333</td>\n",
       "      <td>4.219403</td>\n",
       "    </tr>\n",
       "    <tr>\n",
       "      <th>2024-12-01</th>\n",
       "      <td>30.67</td>\n",
       "      <td>30.580000</td>\n",
       "      <td>4.113957</td>\n",
       "    </tr>\n",
       "    <tr>\n",
       "      <th>2025-01-01</th>\n",
       "      <td>30.80</td>\n",
       "      <td>30.683333</td>\n",
       "      <td>4.054071</td>\n",
       "    </tr>\n",
       "    <tr>\n",
       "      <th>2025-02-01</th>\n",
       "      <td>30.91</td>\n",
       "      <td>30.793333</td>\n",
       "      <td>4.130270</td>\n",
       "    </tr>\n",
       "    <tr>\n",
       "      <th>2025-03-01</th>\n",
       "      <td>30.96</td>\n",
       "      <td>30.890000</td>\n",
       "      <td>4.117015</td>\n",
       "    </tr>\n",
       "  </tbody>\n",
       "</table>\n",
       "</div>"
      ],
      "text/plain": [
       "            VALUE         MA      CH3M\n",
       "DATE                                  \n",
       "2024-11-01  30.58  30.483333  4.219403\n",
       "2024-12-01  30.67  30.580000  4.113957\n",
       "2025-01-01  30.80  30.683333  4.054071\n",
       "2025-02-01  30.91  30.793333  4.130270\n",
       "2025-03-01  30.96  30.890000  4.117015"
      ]
     },
     "execution_count": 7,
     "metadata": {},
     "output_type": "execute_result"
    }
   ],
   "source": [
    "df.tail()"
   ]
  },
  {
   "cell_type": "code",
   "execution_count": 8,
   "id": "d5ba8edf-b089-4d89-999a-ce289356fe40",
   "metadata": {
    "execution": {
     "iopub.execute_input": "2025-04-04T16:55:15.587543Z",
     "iopub.status.busy": "2025-04-04T16:55:15.587386Z",
     "iopub.status.idle": "2025-04-04T16:55:15.593389Z",
     "shell.execute_reply": "2025-04-04T16:55:15.592923Z",
     "shell.execute_reply.started": "2025-04-04T16:55:15.587528Z"
    }
   },
   "outputs": [],
   "source": [
    "# Save result to csv\n",
    "df.loc['2017':].to_csv('wages.csv')"
   ]
  },
  {
   "cell_type": "code",
   "execution_count": null,
   "id": "6eefc78d-201b-4217-bff4-bed3424ebb3c",
   "metadata": {},
   "outputs": [],
   "source": []
  },
  {
   "cell_type": "code",
   "execution_count": null,
   "id": "b910a334-8928-40c5-8931-ad9346a81524",
   "metadata": {},
   "outputs": [],
   "source": []
  },
  {
   "cell_type": "markdown",
   "id": "abc1758a-c404-4690-b875-7f3d7da27251",
   "metadata": {},
   "source": [
    "#### Step 2: Generate text\n",
    "\n",
    "Two sentences: the curent monthly and 3-month average values; the 3M/3M growth rate."
   ]
  },
  {
   "cell_type": "code",
   "execution_count": 9,
   "id": "7873d335-e724-418d-b185-1c8cd1edfd65",
   "metadata": {
    "execution": {
     "iopub.execute_input": "2025-04-04T16:55:15.594199Z",
     "iopub.status.busy": "2025-04-04T16:55:15.593902Z",
     "iopub.status.idle": "2025-04-04T16:55:15.605189Z",
     "shell.execute_reply": "2025-04-04T16:55:15.604638Z",
     "shell.execute_reply.started": "2025-04-04T16:55:15.594181Z"
    }
   },
   "outputs": [
    {
     "name": "stdout",
     "output_type": "stream",
     "text": [
      "As of March 2025, the earnings of production and non-supervisory workers average \\$30.96 per hour. Over the past three months, earnings average \\$30.89 per hour, an annualized increase of 4.1 percent from the previous three months.\n"
     ]
    }
   ],
   "source": [
    "# Open csv file\n",
    "data = pd.read_csv('wages.csv', parse_dates=['DATE'], index_col='DATE')\n",
    "# Format latest date\n",
    "ltdt = data.index[-1].strftime('%B %Y')\n",
    "# Format wages with dollar sign and two decimals\n",
    "lt = data.map('\\\\${:.2f}'.format)\n",
    "\n",
    "# Describe the change: If small, \"virtually unchanged\", else \"increase/decrease of X percent\"\n",
    "chval = data['CH3M'].iloc[-1]\n",
    "chdir = 'decrease' if chval < 0 else 'increase' # Direction of change\n",
    "if abs(chval) <= 0.2:   # Small values\n",
    "    chtxt = 'virtually no change'\n",
    "else:\n",
    "    chtxt = f'an annualized {chdir} of {abs(chval):.1f} percent'\n",
    "    \n",
    "text = (f'As of {ltdt}, the earnings of production and non-supervisory '+\n",
    "        f'workers average {lt.VALUE.iloc[-1]} per hour. Over the past '+\n",
    "        f'three months, earnings average {lt.MA.iloc[-1]} per hour, '+\n",
    "        f'{chtxt} from the previous three months.')\n",
    "with open('wages.txt', 'w') as text_file:\n",
    "        text_file.write(text)\n",
    "print(text)"
   ]
  },
  {
   "cell_type": "code",
   "execution_count": null,
   "id": "e6cafdc3-1333-485d-8440-f0de66c3cbb8",
   "metadata": {},
   "outputs": [],
   "source": []
  },
  {
   "cell_type": "code",
   "execution_count": null,
   "id": "4a958d2f-e217-499f-8efe-3a02c71b0815",
   "metadata": {},
   "outputs": [],
   "source": []
  },
  {
   "cell_type": "markdown",
   "id": "1b074aad-553f-48cc-9766-a9f3f442a2b8",
   "metadata": {},
   "source": [
    "#### Step 3: Update template\n",
    "This block of code will compile the latex file chartbook_example.tex with the latest data and text generated above. If the result is successful, the process will return code \"0\". "
   ]
  },
  {
   "cell_type": "code",
   "execution_count": 10,
   "id": "ed5e2389-2c69-455d-b3c1-6c37feb9fafe",
   "metadata": {
    "execution": {
     "iopub.execute_input": "2025-04-04T16:55:15.606392Z",
     "iopub.status.busy": "2025-04-04T16:55:15.605828Z",
     "iopub.status.idle": "2025-04-04T16:55:16.634797Z",
     "shell.execute_reply": "2025-04-04T16:55:16.634285Z",
     "shell.execute_reply.started": "2025-04-04T16:55:15.606371Z"
    }
   },
   "outputs": [
    {
     "name": "stdout",
     "output_type": "stream",
     "text": [
      "Success! PDF file generated.\n"
     ]
    }
   ],
   "source": [
    "# Compile latex template with latest data to generate pdf file\n",
    "runcb = subprocess.run(['lualatex', 'chartbook_example.tex'], stdout=subprocess.DEVNULL)\n",
    "if runcb.returncode == 0:\n",
    "    print('Success! PDF file generated.')\n",
    "else:\n",
    "    print(runcb.returncode)"
   ]
  },
  {
   "cell_type": "code",
   "execution_count": null,
   "id": "8bd56608-b4d0-4f3d-8b52-41ed8ab429ba",
   "metadata": {},
   "outputs": [],
   "source": []
  },
  {
   "cell_type": "markdown",
   "id": "0ae00b97-6ae7-4be7-9de1-0dc2768aa3b3",
   "metadata": {
    "execution": {
     "iopub.execute_input": "2025-04-04T01:24:08.232192Z",
     "iopub.status.busy": "2025-04-04T01:24:08.231489Z",
     "iopub.status.idle": "2025-04-04T01:24:08.239929Z",
     "shell.execute_reply": "2025-04-04T01:24:08.237846Z",
     "shell.execute_reply.started": "2025-04-04T01:24:08.232127Z"
    }
   },
   "source": [
    "#### Scaling up the process\n",
    "\n",
    "To scale up this process, I've written a few custom functions. For example value_text() will generate text from a single numerical value, and has lots of options to handle different use cases. "
   ]
  },
  {
   "cell_type": "code",
   "execution_count": 11,
   "id": "42c31f55-938a-4ba2-8b15-441612de7eb4",
   "metadata": {
    "execution": {
     "iopub.execute_input": "2025-04-04T16:55:16.635619Z",
     "iopub.status.busy": "2025-04-04T16:55:16.635410Z",
     "iopub.status.idle": "2025-04-04T16:55:16.638549Z",
     "shell.execute_reply": "2025-04-04T16:55:16.638049Z",
     "shell.execute_reply.started": "2025-04-04T16:55:16.635605Z"
    }
   },
   "outputs": [],
   "source": [
    "from utils import value_text # Custom function to handle economic statistics "
   ]
  },
  {
   "cell_type": "code",
   "execution_count": 12,
   "id": "7f9e1992-0f03-4fb4-a998-ff27e2729652",
   "metadata": {
    "execution": {
     "iopub.execute_input": "2025-04-04T16:55:16.640310Z",
     "iopub.status.busy": "2025-04-04T16:55:16.639982Z",
     "iopub.status.idle": "2025-04-04T16:55:16.644898Z",
     "shell.execute_reply": "2025-04-04T16:55:16.644496Z",
     "shell.execute_reply.started": "2025-04-04T16:55:16.640263Z"
    }
   },
   "outputs": [
    {
     "data": {
      "text/plain": [
       "'an annualized increase of 4.1 percent'"
      ]
     },
     "execution_count": 12,
     "metadata": {},
     "output_type": "execute_result"
    }
   ],
   "source": [
    "# Apply custom function to wage growth data\n",
    "value_text(chval, 'increase_of', adj='annualized')"
   ]
  },
  {
   "cell_type": "code",
   "execution_count": 13,
   "id": "211604be-3a2f-48fc-b57d-725ac59751a8",
   "metadata": {
    "execution": {
     "iopub.execute_input": "2025-04-04T16:55:16.645590Z",
     "iopub.status.busy": "2025-04-04T16:55:16.645424Z",
     "iopub.status.idle": "2025-04-04T16:55:16.651031Z",
     "shell.execute_reply": "2025-04-04T16:55:16.650580Z",
     "shell.execute_reply.started": "2025-04-04T16:55:16.645575Z"
    }
   },
   "outputs": [
    {
     "data": {
      "text/plain": [
       "'increased 4.1 percent'"
      ]
     },
     "execution_count": 13,
     "metadata": {},
     "output_type": "execute_result"
    }
   ],
   "source": [
    "# Basic output\n",
    "value_text(chval)"
   ]
  },
  {
   "cell_type": "code",
   "execution_count": 14,
   "id": "76f1a99b-9e5f-4417-bb2d-ad362bb31881",
   "metadata": {
    "execution": {
     "iopub.execute_input": "2025-04-04T16:55:16.651846Z",
     "iopub.status.busy": "2025-04-04T16:55:16.651654Z",
     "iopub.status.idle": "2025-04-04T16:55:16.657027Z",
     "shell.execute_reply": "2025-04-04T16:55:16.656551Z",
     "shell.execute_reply.started": "2025-04-04T16:55:16.651831Z"
    }
   },
   "outputs": [
    {
     "data": {
      "text/plain": [
       "'decreased 8.3 percent'"
      ]
     },
     "execution_count": 14,
     "metadata": {},
     "output_type": "execute_result"
    }
   ],
   "source": [
    "# Negative values\n",
    "value_text(-8.27748)"
   ]
  },
  {
   "cell_type": "code",
   "execution_count": 15,
   "id": "8e2e499a-0b8e-42ba-a06c-9a7d7c832bc2",
   "metadata": {
    "execution": {
     "iopub.execute_input": "2025-04-04T16:55:16.657809Z",
     "iopub.status.busy": "2025-04-04T16:55:16.657608Z",
     "iopub.status.idle": "2025-04-04T16:55:16.662631Z",
     "shell.execute_reply": "2025-04-04T16:55:16.662170Z",
     "shell.execute_reply.started": "2025-04-04T16:55:16.657793Z"
    }
   },
   "outputs": [
    {
     "data": {
      "text/plain": [
       "'contributed 87.8 percent'"
      ]
     },
     "execution_count": 15,
     "metadata": {},
     "output_type": "execute_result"
    }
   ],
   "source": [
    "# Options for text\n",
    "value_text(87.7628, 'contribution')"
   ]
  },
  {
   "cell_type": "code",
   "execution_count": 16,
   "id": "6f6557cd-6df6-4a96-b41f-6605731e4952",
   "metadata": {
    "execution": {
     "iopub.execute_input": "2025-04-04T16:55:16.663335Z",
     "iopub.status.busy": "2025-04-04T16:55:16.663170Z",
     "iopub.status.idle": "2025-04-04T16:55:16.668376Z",
     "shell.execute_reply": "2025-04-04T16:55:16.667998Z",
     "shell.execute_reply.started": "2025-04-04T16:55:16.663320Z"
    }
   },
   "outputs": [
    {
     "data": {
      "text/plain": [
       "'added 73.3 percent'"
      ]
     },
     "execution_count": 16,
     "metadata": {},
     "output_type": "execute_result"
    }
   ],
   "source": [
    "# More casual text\n",
    "value_text(73.311, 'contribution', casual=True)"
   ]
  },
  {
   "cell_type": "code",
   "execution_count": 17,
   "id": "a990ec66-e818-4518-ae15-f457cafec3e5",
   "metadata": {
    "execution": {
     "iopub.execute_input": "2025-04-04T16:55:16.669233Z",
     "iopub.status.busy": "2025-04-04T16:55:16.668921Z",
     "iopub.status.idle": "2025-04-04T16:55:16.676731Z",
     "shell.execute_reply": "2025-04-04T16:55:16.676171Z",
     "shell.execute_reply.started": "2025-04-04T16:55:16.669216Z"
    }
   },
   "outputs": [
    {
     "data": {
      "text/plain": [
       "'\\\\$6,282.84'"
      ]
     },
     "execution_count": 17,
     "metadata": {},
     "output_type": "execute_result"
    }
   ],
   "source": [
    "# Format as currency\n",
    "value_text(6282.84346, 'plain', ptype=None, dollar=True, digits=2)"
   ]
  },
  {
   "cell_type": "code",
   "execution_count": null,
   "id": "7f32d287-e5ab-4415-9304-f6c4a6d7e6c0",
   "metadata": {},
   "outputs": [],
   "source": []
  },
  {
   "cell_type": "code",
   "execution_count": null,
   "id": "b088e6be-edaf-4597-b7bf-9eb9b7f326ba",
   "metadata": {},
   "outputs": [],
   "source": []
  },
  {
   "cell_type": "code",
   "execution_count": null,
   "id": "bd3cdeaa-20fd-41c9-bc42-7708fdd932a1",
   "metadata": {},
   "outputs": [],
   "source": []
  },
  {
   "cell_type": "code",
   "execution_count": null,
   "id": "85656210-ff7f-40e7-9081-5d8f5e08b13e",
   "metadata": {},
   "outputs": [],
   "source": []
  }
 ],
 "metadata": {
  "kernelspec": {
   "display_name": "Python 3 (ipykernel)",
   "language": "python",
   "name": "python3"
  },
  "language_info": {
   "codemirror_mode": {
    "name": "ipython",
    "version": 3
   },
   "file_extension": ".py",
   "mimetype": "text/x-python",
   "name": "python",
   "nbconvert_exporter": "python",
   "pygments_lexer": "ipython3",
   "version": "3.12.4"
  }
 },
 "nbformat": 4,
 "nbformat_minor": 5
}
