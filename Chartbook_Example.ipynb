{
 "cells": [
  {
   "cell_type": "code",
   "execution_count": 1,
   "id": "ee6c15c0-d03b-41ca-ab2b-2dc1fde8b509",
   "metadata": {
    "execution": {
     "iopub.execute_input": "2025-04-04T12:09:16.167153Z",
     "iopub.status.busy": "2025-04-04T12:09:16.166883Z",
     "iopub.status.idle": "2025-04-04T12:09:16.423705Z",
     "shell.execute_reply": "2025-04-04T12:09:16.423214Z",
     "shell.execute_reply.started": "2025-04-04T12:09:16.167134Z"
    }
   },
   "outputs": [],
   "source": [
    "# Import libraries \n",
    "import pandas as pd\n",
    "import subprocess"
   ]
  },
  {
   "cell_type": "markdown",
   "id": "fd584c04-b778-4374-9a73-df84d88dce33",
   "metadata": {},
   "source": [
    "## Chartbook Minimal Example - US Wage Growth\n",
    "\n",
    "Three parts:\n",
    "\n",
    "1) Gather data, apply functions, store cleaned data\n",
    "2) Convert numbers into text and generate data descriptions\n",
    "3) Match the data and text with a LaTex (or other) template\n",
    "\n",
    "Tools: Python, R, Stata or similar for parts (1) and (2). LaTeX (pdf) or web-based for part (3). In theory, AI (Gemini) could do part (2) as well. \n",
    "\n",
    "This example is written in python. If you are new to python, I suggest using 'miniconda'. \n",
    "\n",
    "The example shows a way to download wage data from FRED, apply calculations, and save the results. Next, these results are entered into a set of functions and script to generate two sentences of descriptive text. This text is saved locally as a .txt file. Finally, a separate LaTex (.tex) file is used as a template. The .tex file has a \"hard-keyed\" portion, a placeholder for the .txt file, and a placeholder chart waiting to read the .csv wage growth data. When the .tex file is compiled, it will generate/update a .pdf output."
   ]
  },
  {
   "cell_type": "markdown",
   "id": "501a8040-edaa-4168-aa3f-ac41f3e50f4c",
   "metadata": {
    "execution": {
     "iopub.execute_input": "2025-04-03T21:52:54.456270Z",
     "iopub.status.busy": "2025-04-03T21:52:54.455496Z",
     "iopub.status.idle": "2025-04-03T21:52:54.461617Z",
     "shell.execute_reply": "2025-04-03T21:52:54.461047Z",
     "shell.execute_reply.started": "2025-04-03T21:52:54.456193Z"
    }
   },
   "source": [
    "#### Step 1: Gather data, apply functions, store cleaned data\n",
    "\n",
    "Download wage data from FRED and calculate the three-month over three-month growth rate. Save the results locally as a .csv file."
   ]
  },
  {
   "cell_type": "code",
   "execution_count": 2,
   "id": "11ddf63e-4f96-4f3f-9e83-c5503247aa18",
   "metadata": {
    "execution": {
     "iopub.execute_input": "2025-04-04T12:09:16.424401Z",
     "iopub.status.busy": "2025-04-04T12:09:16.424218Z",
     "iopub.status.idle": "2025-04-04T12:09:16.733686Z",
     "shell.execute_reply": "2025-04-04T12:09:16.733157Z",
     "shell.execute_reply.started": "2025-04-04T12:09:16.424386Z"
    }
   },
   "outputs": [],
   "source": [
    "# Download AHETPI series from FRED\n",
    "url = 'https://fred.stlouisfed.org/data/AHETPI'\n",
    "df = pd.read_html(url, parse_dates=True)[1].set_index('DATE')"
   ]
  },
  {
   "cell_type": "code",
   "execution_count": 3,
   "id": "b851bbb1-7db8-470e-8b4f-c18a1649336b",
   "metadata": {
    "execution": {
     "iopub.execute_input": "2025-04-04T12:09:16.735135Z",
     "iopub.status.busy": "2025-04-04T12:09:16.734911Z",
     "iopub.status.idle": "2025-04-04T12:09:16.742751Z",
     "shell.execute_reply": "2025-04-04T12:09:16.742287Z",
     "shell.execute_reply.started": "2025-04-04T12:09:16.735108Z"
    }
   },
   "outputs": [
    {
     "data": {
      "text/html": [
       "<div>\n",
       "<style scoped>\n",
       "    .dataframe tbody tr th:only-of-type {\n",
       "        vertical-align: middle;\n",
       "    }\n",
       "\n",
       "    .dataframe tbody tr th {\n",
       "        vertical-align: top;\n",
       "    }\n",
       "\n",
       "    .dataframe thead th {\n",
       "        text-align: right;\n",
       "    }\n",
       "</style>\n",
       "<table border=\"1\" class=\"dataframe\">\n",
       "  <thead>\n",
       "    <tr style=\"text-align: right;\">\n",
       "      <th></th>\n",
       "      <th>VALUE</th>\n",
       "    </tr>\n",
       "    <tr>\n",
       "      <th>DATE</th>\n",
       "      <th></th>\n",
       "    </tr>\n",
       "  </thead>\n",
       "  <tbody>\n",
       "    <tr>\n",
       "      <th>2024-10-01</th>\n",
       "      <td>30.49</td>\n",
       "    </tr>\n",
       "    <tr>\n",
       "      <th>2024-11-01</th>\n",
       "      <td>30.58</td>\n",
       "    </tr>\n",
       "    <tr>\n",
       "      <th>2024-12-01</th>\n",
       "      <td>30.67</td>\n",
       "    </tr>\n",
       "    <tr>\n",
       "      <th>2025-01-01</th>\n",
       "      <td>30.80</td>\n",
       "    </tr>\n",
       "    <tr>\n",
       "      <th>2025-02-01</th>\n",
       "      <td>30.89</td>\n",
       "    </tr>\n",
       "  </tbody>\n",
       "</table>\n",
       "</div>"
      ],
      "text/plain": [
       "            VALUE\n",
       "DATE             \n",
       "2024-10-01  30.49\n",
       "2024-11-01  30.58\n",
       "2024-12-01  30.67\n",
       "2025-01-01  30.80\n",
       "2025-02-01  30.89"
      ]
     },
     "execution_count": 3,
     "metadata": {},
     "output_type": "execute_result"
    }
   ],
   "source": [
    "# Show last 5 observations\n",
    "df.tail()"
   ]
  },
  {
   "cell_type": "code",
   "execution_count": 4,
   "id": "f1d8ccc0-f4c2-4c0d-a58a-c2ec19881e9a",
   "metadata": {
    "execution": {
     "iopub.execute_input": "2025-04-04T12:09:16.743487Z",
     "iopub.status.busy": "2025-04-04T12:09:16.743309Z",
     "iopub.status.idle": "2025-04-04T12:09:16.760006Z",
     "shell.execute_reply": "2025-04-04T12:09:16.759518Z",
     "shell.execute_reply.started": "2025-04-04T12:09:16.743472Z"
    }
   },
   "outputs": [],
   "source": [
    "# Calculate 3-month moving average\n",
    "df['MA'] = df['VALUE'].rolling(3).mean()"
   ]
  },
  {
   "cell_type": "code",
   "execution_count": 5,
   "id": "51dfad24-100c-41b6-be41-f002e7a2da87",
   "metadata": {
    "execution": {
     "iopub.execute_input": "2025-04-04T12:09:16.760873Z",
     "iopub.status.busy": "2025-04-04T12:09:16.760722Z",
     "iopub.status.idle": "2025-04-04T12:09:16.768725Z",
     "shell.execute_reply": "2025-04-04T12:09:16.768230Z",
     "shell.execute_reply.started": "2025-04-04T12:09:16.760859Z"
    }
   },
   "outputs": [
    {
     "data": {
      "text/html": [
       "<div>\n",
       "<style scoped>\n",
       "    .dataframe tbody tr th:only-of-type {\n",
       "        vertical-align: middle;\n",
       "    }\n",
       "\n",
       "    .dataframe tbody tr th {\n",
       "        vertical-align: top;\n",
       "    }\n",
       "\n",
       "    .dataframe thead th {\n",
       "        text-align: right;\n",
       "    }\n",
       "</style>\n",
       "<table border=\"1\" class=\"dataframe\">\n",
       "  <thead>\n",
       "    <tr style=\"text-align: right;\">\n",
       "      <th></th>\n",
       "      <th>VALUE</th>\n",
       "      <th>MA</th>\n",
       "    </tr>\n",
       "    <tr>\n",
       "      <th>DATE</th>\n",
       "      <th></th>\n",
       "      <th></th>\n",
       "    </tr>\n",
       "  </thead>\n",
       "  <tbody>\n",
       "    <tr>\n",
       "      <th>2024-10-01</th>\n",
       "      <td>30.49</td>\n",
       "      <td>30.380000</td>\n",
       "    </tr>\n",
       "    <tr>\n",
       "      <th>2024-11-01</th>\n",
       "      <td>30.58</td>\n",
       "      <td>30.483333</td>\n",
       "    </tr>\n",
       "    <tr>\n",
       "      <th>2024-12-01</th>\n",
       "      <td>30.67</td>\n",
       "      <td>30.580000</td>\n",
       "    </tr>\n",
       "    <tr>\n",
       "      <th>2025-01-01</th>\n",
       "      <td>30.80</td>\n",
       "      <td>30.683333</td>\n",
       "    </tr>\n",
       "    <tr>\n",
       "      <th>2025-02-01</th>\n",
       "      <td>30.89</td>\n",
       "      <td>30.786667</td>\n",
       "    </tr>\n",
       "  </tbody>\n",
       "</table>\n",
       "</div>"
      ],
      "text/plain": [
       "            VALUE         MA\n",
       "DATE                        \n",
       "2024-10-01  30.49  30.380000\n",
       "2024-11-01  30.58  30.483333\n",
       "2024-12-01  30.67  30.580000\n",
       "2025-01-01  30.80  30.683333\n",
       "2025-02-01  30.89  30.786667"
      ]
     },
     "execution_count": 5,
     "metadata": {},
     "output_type": "execute_result"
    }
   ],
   "source": [
    "df.tail()"
   ]
  },
  {
   "cell_type": "code",
   "execution_count": 6,
   "id": "532ef15a-b1cf-4c92-b9e2-d4f4fc6d992b",
   "metadata": {
    "execution": {
     "iopub.execute_input": "2025-04-04T12:09:16.769454Z",
     "iopub.status.busy": "2025-04-04T12:09:16.769298Z",
     "iopub.status.idle": "2025-04-04T12:09:16.774266Z",
     "shell.execute_reply": "2025-04-04T12:09:16.773772Z",
     "shell.execute_reply.started": "2025-04-04T12:09:16.769438Z"
    }
   },
   "outputs": [],
   "source": [
    "# Calculate 3M/3M change\n",
    "df['CH3M'] = (((df['MA'] / df['MA'].shift(3))**4) - 1) * 100"
   ]
  },
  {
   "cell_type": "code",
   "execution_count": 7,
   "id": "c6c5bc26-2eb1-413b-878c-eb7c9084c2c3",
   "metadata": {
    "execution": {
     "iopub.execute_input": "2025-04-04T12:09:16.774821Z",
     "iopub.status.busy": "2025-04-04T12:09:16.774683Z",
     "iopub.status.idle": "2025-04-04T12:09:16.782963Z",
     "shell.execute_reply": "2025-04-04T12:09:16.782445Z",
     "shell.execute_reply.started": "2025-04-04T12:09:16.774808Z"
    }
   },
   "outputs": [
    {
     "data": {
      "text/html": [
       "<div>\n",
       "<style scoped>\n",
       "    .dataframe tbody tr th:only-of-type {\n",
       "        vertical-align: middle;\n",
       "    }\n",
       "\n",
       "    .dataframe tbody tr th {\n",
       "        vertical-align: top;\n",
       "    }\n",
       "\n",
       "    .dataframe thead th {\n",
       "        text-align: right;\n",
       "    }\n",
       "</style>\n",
       "<table border=\"1\" class=\"dataframe\">\n",
       "  <thead>\n",
       "    <tr style=\"text-align: right;\">\n",
       "      <th></th>\n",
       "      <th>VALUE</th>\n",
       "      <th>MA</th>\n",
       "      <th>CH3M</th>\n",
       "    </tr>\n",
       "    <tr>\n",
       "      <th>DATE</th>\n",
       "      <th></th>\n",
       "      <th></th>\n",
       "      <th></th>\n",
       "    </tr>\n",
       "  </thead>\n",
       "  <tbody>\n",
       "    <tr>\n",
       "      <th>2024-10-01</th>\n",
       "      <td>30.49</td>\n",
       "      <td>30.380000</td>\n",
       "      <td>4.187919</td>\n",
       "    </tr>\n",
       "    <tr>\n",
       "      <th>2024-11-01</th>\n",
       "      <td>30.58</td>\n",
       "      <td>30.483333</td>\n",
       "      <td>4.219403</td>\n",
       "    </tr>\n",
       "    <tr>\n",
       "      <th>2024-12-01</th>\n",
       "      <td>30.67</td>\n",
       "      <td>30.580000</td>\n",
       "      <td>4.113957</td>\n",
       "    </tr>\n",
       "    <tr>\n",
       "      <th>2025-01-01</th>\n",
       "      <td>30.80</td>\n",
       "      <td>30.683333</td>\n",
       "      <td>4.054071</td>\n",
       "    </tr>\n",
       "    <tr>\n",
       "      <th>2025-02-01</th>\n",
       "      <td>30.89</td>\n",
       "      <td>30.786667</td>\n",
       "      <td>4.040123</td>\n",
       "    </tr>\n",
       "  </tbody>\n",
       "</table>\n",
       "</div>"
      ],
      "text/plain": [
       "            VALUE         MA      CH3M\n",
       "DATE                                  \n",
       "2024-10-01  30.49  30.380000  4.187919\n",
       "2024-11-01  30.58  30.483333  4.219403\n",
       "2024-12-01  30.67  30.580000  4.113957\n",
       "2025-01-01  30.80  30.683333  4.054071\n",
       "2025-02-01  30.89  30.786667  4.040123"
      ]
     },
     "execution_count": 7,
     "metadata": {},
     "output_type": "execute_result"
    }
   ],
   "source": [
    "df.tail()"
   ]
  },
  {
   "cell_type": "code",
   "execution_count": 8,
   "id": "d5ba8edf-b089-4d89-999a-ce289356fe40",
   "metadata": {
    "execution": {
     "iopub.execute_input": "2025-04-04T12:09:16.783624Z",
     "iopub.status.busy": "2025-04-04T12:09:16.783462Z",
     "iopub.status.idle": "2025-04-04T12:09:16.789220Z",
     "shell.execute_reply": "2025-04-04T12:09:16.788832Z",
     "shell.execute_reply.started": "2025-04-04T12:09:16.783609Z"
    }
   },
   "outputs": [],
   "source": [
    "# Save result to csv\n",
    "df.loc['2017':].to_csv('wages.csv')"
   ]
  },
  {
   "cell_type": "code",
   "execution_count": null,
   "id": "6eefc78d-201b-4217-bff4-bed3424ebb3c",
   "metadata": {},
   "outputs": [],
   "source": []
  },
  {
   "cell_type": "code",
   "execution_count": null,
   "id": "b910a334-8928-40c5-8931-ad9346a81524",
   "metadata": {},
   "outputs": [],
   "source": []
  },
  {
   "cell_type": "markdown",
   "id": "abc1758a-c404-4690-b875-7f3d7da27251",
   "metadata": {},
   "source": [
    "#### Step 2: Generate text\n",
    "\n",
    "Two sentences: the curent monthly and 3-month average values; the 3M/3M growth rate."
   ]
  },
  {
   "cell_type": "code",
   "execution_count": 9,
   "id": "7873d335-e724-418d-b185-1c8cd1edfd65",
   "metadata": {
    "execution": {
     "iopub.execute_input": "2025-04-04T12:09:16.789980Z",
     "iopub.status.busy": "2025-04-04T12:09:16.789733Z",
     "iopub.status.idle": "2025-04-04T12:09:16.823389Z",
     "shell.execute_reply": "2025-04-04T12:09:16.821129Z",
     "shell.execute_reply.started": "2025-04-04T12:09:16.789966Z"
    }
   },
   "outputs": [
    {
     "name": "stdout",
     "output_type": "stream",
     "text": [
      "As of February 2025, the earnings of production and non-supervisory workers average \\$30.89 per hour. Over the past three months, earnings average \\$30.79 per hour, an annualized increase of 4.0 percent from the previous three months.\n"
     ]
    }
   ],
   "source": [
    "# Open csv file\n",
    "data = pd.read_csv('wages.csv', parse_dates=['DATE'], index_col='DATE')\n",
    "# Format latest date\n",
    "ltdt = data.index[-1].strftime('%B %Y')\n",
    "# Format wages with dollar sign and two decimals\n",
    "lt = data.map('\\\\${:.2f}'.format)\n",
    "\n",
    "# Describe the change: If small, \"virtually unchanged\", else \"increase/decrease of X percent\"\n",
    "chval = data['CH3M'].iloc[-1]\n",
    "chdir = 'decrease' if chval < 0 else 'increase' # Direction of change\n",
    "if abs(chval) <= 0.2:   # Small values\n",
    "    chtxt = 'virtually no change'\n",
    "else:\n",
    "    chtxt = f'an annualized {chdir} of {abs(chval):.1f} percent'\n",
    "    \n",
    "text = (f'As of {ltdt}, the earnings of production and non-supervisory '+\n",
    "        f'workers average {lt.VALUE.iloc[-1]} per hour. Over the past '+\n",
    "        f'three months, earnings average {lt.MA.iloc[-1]} per hour, '+\n",
    "        f'{chtxt} from the previous three months.')\n",
    "with open('wages.txt', 'w') as text_file:\n",
    "        text_file.write(text)\n",
    "print(text)"
   ]
  },
  {
   "cell_type": "code",
   "execution_count": null,
   "id": "e6cafdc3-1333-485d-8440-f0de66c3cbb8",
   "metadata": {},
   "outputs": [],
   "source": []
  },
  {
   "cell_type": "code",
   "execution_count": null,
   "id": "4a958d2f-e217-499f-8efe-3a02c71b0815",
   "metadata": {},
   "outputs": [],
   "source": []
  },
  {
   "cell_type": "markdown",
   "id": "1b074aad-553f-48cc-9766-a9f3f442a2b8",
   "metadata": {},
   "source": [
    "#### Step 3: Update template\n",
    "This block of code will compile the latex file chartbook_example.tex with the latest data and text generated above. If the result is successful, the process will return code \"0\". "
   ]
  },
  {
   "cell_type": "code",
   "execution_count": 10,
   "id": "ed5e2389-2c69-455d-b3c1-6c37feb9fafe",
   "metadata": {
    "execution": {
     "iopub.execute_input": "2025-04-04T12:09:16.826439Z",
     "iopub.status.busy": "2025-04-04T12:09:16.825715Z",
     "iopub.status.idle": "2025-04-04T12:09:17.388700Z",
     "shell.execute_reply": "2025-04-04T12:09:17.388156Z",
     "shell.execute_reply.started": "2025-04-04T12:09:16.826374Z"
    }
   },
   "outputs": [
    {
     "name": "stdout",
     "output_type": "stream",
     "text": [
      "0\n"
     ]
    }
   ],
   "source": [
    "# Compile latex template with latest data to generate pdf file\n",
    "runcb = subprocess.run(['latex', 'chartbook_example.tex'], stdout=subprocess.DEVNULL)\n",
    "if runcb.returncode == 0:\n",
    "    print('Success! PDF file generated.')\n",
    "else:\n",
    "    print(runcb.returncode)"
   ]
  },
  {
   "cell_type": "code",
   "execution_count": null,
   "id": "8bd56608-b4d0-4f3d-8b52-41ed8ab429ba",
   "metadata": {},
   "outputs": [],
   "source": []
  },
  {
   "cell_type": "markdown",
   "id": "0ae00b97-6ae7-4be7-9de1-0dc2768aa3b3",
   "metadata": {
    "execution": {
     "iopub.execute_input": "2025-04-04T01:24:08.232192Z",
     "iopub.status.busy": "2025-04-04T01:24:08.231489Z",
     "iopub.status.idle": "2025-04-04T01:24:08.239929Z",
     "shell.execute_reply": "2025-04-04T01:24:08.237846Z",
     "shell.execute_reply.started": "2025-04-04T01:24:08.232127Z"
    }
   },
   "source": [
    "#### Scaling up the process\n",
    "\n",
    "To scale up this process, I've written a few custom functions. For example value_text() will generate text from a single numerical value, and has lots of options to handle different use cases. "
   ]
  },
  {
   "cell_type": "code",
   "execution_count": 11,
   "id": "42c31f55-938a-4ba2-8b15-441612de7eb4",
   "metadata": {
    "execution": {
     "iopub.execute_input": "2025-04-04T12:09:17.389362Z",
     "iopub.status.busy": "2025-04-04T12:09:17.389208Z",
     "iopub.status.idle": "2025-04-04T12:09:17.391978Z",
     "shell.execute_reply": "2025-04-04T12:09:17.391504Z",
     "shell.execute_reply.started": "2025-04-04T12:09:17.389348Z"
    }
   },
   "outputs": [],
   "source": [
    "from utils import value_text # Custom function to handle economic statistics "
   ]
  },
  {
   "cell_type": "code",
   "execution_count": 12,
   "id": "7f9e1992-0f03-4fb4-a998-ff27e2729652",
   "metadata": {
    "execution": {
     "iopub.execute_input": "2025-04-04T12:09:17.393522Z",
     "iopub.status.busy": "2025-04-04T12:09:17.393347Z",
     "iopub.status.idle": "2025-04-04T12:09:17.406584Z",
     "shell.execute_reply": "2025-04-04T12:09:17.406230Z",
     "shell.execute_reply.started": "2025-04-04T12:09:17.393507Z"
    }
   },
   "outputs": [
    {
     "data": {
      "text/plain": [
       "'an annualized increase of four percent'"
      ]
     },
     "execution_count": 12,
     "metadata": {},
     "output_type": "execute_result"
    }
   ],
   "source": [
    "# Apply custom function to wage growth data\n",
    "value_text(chval, 'increase_of', adj='annualized')"
   ]
  },
  {
   "cell_type": "code",
   "execution_count": 13,
   "id": "211604be-3a2f-48fc-b57d-725ac59751a8",
   "metadata": {
    "execution": {
     "iopub.execute_input": "2025-04-04T12:09:17.407256Z",
     "iopub.status.busy": "2025-04-04T12:09:17.407100Z",
     "iopub.status.idle": "2025-04-04T12:09:17.414827Z",
     "shell.execute_reply": "2025-04-04T12:09:17.414420Z",
     "shell.execute_reply.started": "2025-04-04T12:09:17.407243Z"
    }
   },
   "outputs": [
    {
     "data": {
      "text/plain": [
       "'increased four percent'"
      ]
     },
     "execution_count": 13,
     "metadata": {},
     "output_type": "execute_result"
    }
   ],
   "source": [
    "# Basic output\n",
    "value_text(chval)"
   ]
  },
  {
   "cell_type": "code",
   "execution_count": 14,
   "id": "76f1a99b-9e5f-4417-bb2d-ad362bb31881",
   "metadata": {
    "execution": {
     "iopub.execute_input": "2025-04-04T12:09:17.415572Z",
     "iopub.status.busy": "2025-04-04T12:09:17.415409Z",
     "iopub.status.idle": "2025-04-04T12:09:17.421369Z",
     "shell.execute_reply": "2025-04-04T12:09:17.420890Z",
     "shell.execute_reply.started": "2025-04-04T12:09:17.415557Z"
    }
   },
   "outputs": [
    {
     "data": {
      "text/plain": [
       "'decreased 8.3 percent'"
      ]
     },
     "execution_count": 14,
     "metadata": {},
     "output_type": "execute_result"
    }
   ],
   "source": [
    "# Negative values\n",
    "value_text(-8.27748)"
   ]
  },
  {
   "cell_type": "code",
   "execution_count": 15,
   "id": "8e2e499a-0b8e-42ba-a06c-9a7d7c832bc2",
   "metadata": {
    "execution": {
     "iopub.execute_input": "2025-04-04T12:09:17.422118Z",
     "iopub.status.busy": "2025-04-04T12:09:17.421962Z",
     "iopub.status.idle": "2025-04-04T12:09:17.427471Z",
     "shell.execute_reply": "2025-04-04T12:09:17.426945Z",
     "shell.execute_reply.started": "2025-04-04T12:09:17.422104Z"
    }
   },
   "outputs": [
    {
     "data": {
      "text/plain": [
       "'contributed 87.8 percent'"
      ]
     },
     "execution_count": 15,
     "metadata": {},
     "output_type": "execute_result"
    }
   ],
   "source": [
    "# Options for text\n",
    "value_text(87.7628, 'contribution')"
   ]
  },
  {
   "cell_type": "code",
   "execution_count": 16,
   "id": "6f6557cd-6df6-4a96-b41f-6605731e4952",
   "metadata": {
    "execution": {
     "iopub.execute_input": "2025-04-04T12:09:17.428159Z",
     "iopub.status.busy": "2025-04-04T12:09:17.428003Z",
     "iopub.status.idle": "2025-04-04T12:09:17.433968Z",
     "shell.execute_reply": "2025-04-04T12:09:17.433455Z",
     "shell.execute_reply.started": "2025-04-04T12:09:17.428145Z"
    }
   },
   "outputs": [
    {
     "data": {
      "text/plain": [
       "'added 73.3 percent'"
      ]
     },
     "execution_count": 16,
     "metadata": {},
     "output_type": "execute_result"
    }
   ],
   "source": [
    "# More casual text\n",
    "value_text(73.311, 'contribution', casual=True)"
   ]
  },
  {
   "cell_type": "code",
   "execution_count": 17,
   "id": "a990ec66-e818-4518-ae15-f457cafec3e5",
   "metadata": {
    "execution": {
     "iopub.execute_input": "2025-04-04T12:09:17.434768Z",
     "iopub.status.busy": "2025-04-04T12:09:17.434582Z",
     "iopub.status.idle": "2025-04-04T12:09:17.439305Z",
     "shell.execute_reply": "2025-04-04T12:09:17.438929Z",
     "shell.execute_reply.started": "2025-04-04T12:09:17.434751Z"
    }
   },
   "outputs": [
    {
     "data": {
      "text/plain": [
       "'\\\\$6,282.84'"
      ]
     },
     "execution_count": 17,
     "metadata": {},
     "output_type": "execute_result"
    }
   ],
   "source": [
    "# Format as currency\n",
    "value_text(6282.84346, 'plain', ptype=None, dollar=True, digits=2)"
   ]
  },
  {
   "cell_type": "code",
   "execution_count": null,
   "id": "7f32d287-e5ab-4415-9304-f6c4a6d7e6c0",
   "metadata": {},
   "outputs": [],
   "source": []
  }
 ],
 "metadata": {
  "kernelspec": {
   "display_name": "Python 3 (ipykernel)",
   "language": "python",
   "name": "python3"
  },
  "language_info": {
   "codemirror_mode": {
    "name": "ipython",
    "version": 3
   },
   "file_extension": ".py",
   "mimetype": "text/x-python",
   "name": "python",
   "nbconvert_exporter": "python",
   "pygments_lexer": "ipython3",
   "version": "3.12.4"
  }
 },
 "nbformat": 4,
 "nbformat_minor": 5
}
